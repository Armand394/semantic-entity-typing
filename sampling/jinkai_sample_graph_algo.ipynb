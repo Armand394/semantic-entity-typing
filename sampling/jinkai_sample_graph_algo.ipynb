{
  "cells": [
    {
      "cell_type": "code",
      "execution_count": 7,
      "metadata": {
        "id": "QwzAtfuixRl8"
      },
      "outputs": [
        {
          "name": "stdout",
          "output_type": "stream",
          "text": [
            "['/m/08mbj5d', '/m/04ztj', '/m/08mbj32', '/m/02hrh1q', '/m/09c7w0', '/m/07s9rl0', '/m/01d_h8', '/m/0dxtg', '/m/0ch6mp2', '/m/02vxfw_', '/m/09zzb8', '/m/02sdk9v', '/m/02nzb8', '/m/02_j1w', '/m/02r96rf', '/m/0342h', '/m/09vw2b7', '/m/09l65', '/m/0dgrmp', '/m/02jknp', '/m/060c4', '/m/05p553', '/m/07ssc', '/m/09jwl', '/m/03gjzk', '/m/014mlp', '/m/01jfsb', '/m/05r5c', '/m/0gq9h', '/m/02_286', '/m/09sb52', '/m/02hcv8', '/m/05148p4', '/m/0147fv', '/m/02kdv5l', '/m/0cbd2', '/m/02l7c8', '/m/06by7', '/m/0gs9p', '/m/04n6k', '/m/02vx4', '/m/0gqy2', '/m/018vs', '/m/03k9fj', '/m/0dxtw', '/m/0nbcg', '/m/02h4rq6', '/m/0f4x7', '/m/0ckd1', '/m/0gr4k', '/m/086k8', '/m/019v9k', '/m/0np9r', '/m/064t9', '/m/01vx2h', '/m/019f4v', '/m/041rx', '/m/0gqyl', '/m/01pvkk', '/m/01g63y', '/m/0gq_v', '/m/02hnl', '/m/01hmnh', '/m/04xvlr', '/m/040njc', '/m/0gqwc', '/m/0l14md', '/m/01z4y', '/m/0gr51', '/m/03bx0bm', '/m/0kyk', '/m/0dz3r', '/m/0k611', '/m/016z4k', '/m/0gr0m', '/m/0lsxr', '/m/018gz8', '/m/02_xgp2', '/m/0l8z1', '/m/05qd_', '/m/030qb3t', '/m/0d060g', '/m/0x67', '/m/01c72t', '/m/0l14qv', '/m/0ck27z', '/m/04dn09n', '/m/06n90', '/m/016tw3', '/m/016t_3', '/m/0p9sw', '/m/02jx1', '/m/017s11', '/m/05jxkf', '/m/0f8l9c', '/m/06sks6', '/m/054krc', '/m/04kxsb', '/m/0gs96', '/m/03g3w', '/m/02krf9', '/m/016tt2', '/m/0dq_5', '/m/0kbws', '/m/026t6', '/m/01vj9c', '/m/0345h', '/m/01n7q', '/m/03qjg', '/m/016clz', '/m/04jpl', '/m/03bwzr4', '/m/059rby', '/m/02sgy', '/m/042v_gx', '/m/02n4kr', '/m/0bkj86', '/m/027dtxw', '/m/02pqp12', '/m/01vdm0', '/m/01by1l', '/m/03rjj', '/m/013y1f', '/m/0bynt', '/m/094qd5', '/m/02fqwt', '/m/0chghy', '/m/05pcn59', '/m/02j62', '/m/02ynfr', '/m/02qvyrt', '/m/05bt6j', '/m/060__y', '/m/06j6l', '/m/0gqz2', '/m/0cqhk0', '/m/0xhtw', '/m/07bdd_', '/m/02ppm4q', '/m/07t65', '/m/0hcr', '/m/0bwfn', '/m/04rzd', '/m/02vk52z', '/m/02lcqs', '/m/07fb8_', '/m/01pb34', '/m/03hl6lc', '/m/01_d4', '/m/02x73k6', '/m/02j71', '/m/03hkv_r', '/m/02qyntr', '/m/07cbcy', '/m/02w9sd7', '/m/07c52', '/m/0gr42', '/m/05zr6wv', '/m/05p09zm', '/m/04ljl_l', '/m/02n9nmz', '/m/01bgqh', '/m/039v1', '/m/0d05w3', '/m/0n1h', '/m/0pqc5', '/m/033tf_', '/m/06z6r', '/m/0cj16', '/m/03rk0', '/m/059j2', '/m/06pj8', '/m/0bdwqv', '/m/03_d0', '/m/018j2', '/m/01w5m', '/m/09sdmz', '/m/054ks3', '/m/03ksy', '/m/04rjg', '/m/02h40lc', '/m/0cjyzs', '/m/05tbn', '/m/05b4l5x', '/m/01mkq', '/m/0g1rw', '/m/099c8n', '/m/082gq', '/m/0glt670', '/m/02w7gg', '/m/0d1pc', '/m/062z7', '/m/05842k', '/m/02qyp19', '/m/03_3d', '/m/028tv0', '/m/03lty', '/m/07y_7', '/m/017fp', '/m/015_1q', '/m/0gk4g', '/m/02lq67', '/m/02rdyk7', '/m/01cgz', '/m/06ncr', '/m/04t36', '/m/0ctw_b', '/m/05k7sb', '/m/07s6fsf', '/m/0jmj7', '/m/017jd9', '/m/0466p0j', '/m/057xs89', '/m/05b1610', '/m/0c4z8', '/m/0bfvd4', '/m/081pw', '/m/05f4m9q', '/m/09qv_s', '/m/0215hd', '/m/02r22gf', '/m/02lq5w', '/m/02z0dfh', '/m/0219x_', '/m/01t_vv', '/m/0m7yy', '/m/060bp', '/m/02y_rq5', '/m/07xl34', '/m/0b90_r', '/m/05ztrmj', '/m/017gl1', '/m/05pcjw', '/m/0l14j_', '/m/03npn', '/m/03xq0f', '/m/0kbvb', '/m/013b2h', '/m/02lpp7', '/m/09n4nb', '/m/05qhw', '/m/09qwmm', '/m/0gpjbt', '/m/05pd94v', '/m/02vxn', '/m/0jdk_', '/m/02x4w6g', '/m/01bx35', '/m/0735l', '/m/0fbtbt', '/m/014zcr', '/m/019bk0', '/m/02x17s4', '/m/03_8r', '/m/0gywn', '/m/09f2j', '/m/05qjt', '/m/05p1dby', '/m/03c7tr1', '/m/01vs_v8', '/m/01rs41', '/m/085h1', '/m/06cvj', '/m/02rjjll', '/m/04zx3q1', '/m/0hzlz', '/m/09td7p', '/m/02yvct', '/m/0c6qh', '/m/0rh6k', '/m/02hsq3m', '/m/01s695', '/m/099tbz', '/m/018wdw', '/m/01c6qp', '/m/056878', '/m/02cg41', '/m/065y4w7', '/m/015h31', '/m/06mkj', '/m/02llzg', '/m/0mkg', '/m/025sc50', '/m/0cr3d', '/m/0154j', '/m/071t0', '/m/06bnz', '/m/0btpm6', '/m/0bdwft', '/m/07brj', '/m/0jhn7', '/m/08815', '/m/05kkh', '/m/03rhqg', '/m/07t58', '/m/0d0vqn', '/m/0bxtg', '/m/05r6t', '/m/07s846j', '/m/01lyv']\n",
            "Graph sampled has 1584 nodes and 27725 edges\n",
            "Graph has 14951 nodes and 394804 edges\n"
          ]
        }
      ],
      "source": [
        "import networkx as nx\n",
        "import random\n",
        "\n",
        "def load_graph_from_txt(file_path):\n",
        "    G = nx.DiGraph() \n",
        "    with open(file_path, \"r\", encoding=\"utf-8\") as f:\n",
        "        for line in f:\n",
        "            parts = line.strip().split(\"\\t\")\n",
        "            if len(parts) == 3:\n",
        "                head, relation, tail = parts\n",
        "                G.add_edge(head, tail, relation=relation)\n",
        "    return G\n",
        "\n",
        "\n",
        "def directed_random_walk_sampling(graph, seed_nodes, walk_length=8, sample_size=20000, p_restart=0.7):\n",
        "\n",
        "    \"\"\"\n",
        "    在有向图上执行改进的随机游走采样\n",
        "    - 避免走到无出度节点时卡住\n",
        "    - 允许一定概率随机跳跃到新的种子节点\n",
        "    \"\"\"\n",
        "    sampled_nodes = set(seed_nodes)\n",
        "\n",
        "    for node in seed_nodes:\n",
        "        current_node = node\n",
        "        for _ in range(walk_length):\n",
        "            if random.random() < p_restart:\n",
        "                current_node = random.choice(seed_nodes)  # 以一定概率重置到起始节点\n",
        "            else:\n",
        "                neighbors = list(graph.successors(current_node))  # 只看出边\n",
        "                if not neighbors:\n",
        "                    break  # 没有出边就终止当前游走\n",
        "                current_node = random.choice(neighbors)\n",
        "\n",
        "            sampled_nodes.add(current_node)\n",
        "            if len(sampled_nodes) >= sample_size:\n",
        "                break\n",
        "        if len(sampled_nodes) >= sample_size:\n",
        "            break\n",
        "\n",
        "    return graph.subgraph(sampled_nodes)\n",
        "\n",
        "G=load_graph_from_txt(\"KG_train.txt\")\n",
        "num_hubs = 300  #inclure ici les n premiers grand noeud qui porte beaucoup darc sortant.\n",
        "high_outdegree_nodes = sorted(G.out_degree, key=lambda x: x[1], reverse=True)[:num_hubs]\n",
        "hub_seeds = [node for node, _ in high_outdegree_nodes]\n",
        "print(hub_seeds)\n",
        "valid_seeds = [node for node in G.nodes() if len(list(G.successors(node))) > 0]\n",
        "seed_nodes1 = random.sample(valid_seeds, 500)  # ici on choisit les nombres voulus des autres point de part.\n",
        "seed_nodes = hub_seeds + seed_nodes1# la somme des des deux noeuds initiaux forme la taille de graphe. vous pouvez changer comme vous voulez\n",
        "\n",
        "\n",
        "\n",
        "G_sampled = directed_random_walk_sampling(G, seed_nodes, walk_length=5, sample_size=20000, p_restart=0.7)# ici vous choisiez les parametres de echantilloner\n",
        "#walk length plus grand vous aurez le graph plus global\n",
        "#p restard pour resortir quand on rencontre un chemin termine ou un entite avec beaucoup darc sortant.\n",
        "\n",
        "\n",
        "\n",
        "print(f\"Graph sampled has {G_sampled.number_of_nodes()} nodes and {G_sampled.number_of_edges()} edges\")\n",
        "print(f\"Graph has {G.number_of_nodes()} nodes and {G.number_of_edges()} edges\")\n",
        "\n",
        "\n",
        "\n",
        "def save_triplets_to_txt(edges, file_path=\"triplets.txt\"):\n",
        "    with open(file_path, \"w\", encoding=\"utf-8\") as f:\n",
        "        for head, relation, tail in edges:\n",
        "            f.write(f\"{head}\\t{relation}\\t{tail}\\n\")\n",
        "\n",
        "edges = [(u, d[\"relation\"], v, ) for u, v, d in G_sampled.edges(data=True)]\n",
        "\n",
        "save_triplets_to_txt(edges)"
      ]
    },
    {
      "cell_type": "code",
      "execution_count": 7,
      "metadata": {},
      "outputs": [
        {
          "name": "stdout",
          "output_type": "stream",
          "text": [
            "Type des données : <class 'list'>\n",
            "Nombre total d'éléments : 14808\n",
            "Aperçu (10 premiers éléments) : [([[4606, 1663, 16272], [4606, 1663, 18198], [4606, 1669, 18401], [4606, 1368, 15578], [4606, 1469, 17326], [4606, 1401, 15034], [4606, 1663, 16936], [4606, 1358, 15023], [4606, 1358, 18087], [4606, 1469, 15916], [4606, 1669, 18300]], [[4606, 1180, 10783], [4606, 2716, 10783], [4606, 337, 8135], [4606, 3618, 8135], [4606, 899, 8135], [4606, 537, 5864], [4606, 2716, 9766], [4606, 1180, 9766], [4606, 3702, 7240], [4606, 1177, 7240], [4606, 549, 5806], [4606, 2953, 5806], [4606, 3672, 11999], [4606, 546, 11999], [4606, 1205, 2444], [4606, 2586, 2444], [4606, 195, 7434], [4606, 1318, 7434], [4606, 84, 7434], [4606, 1168, 7434], [4606, 537, 11342], [4606, 3702, 10091], [4606, 1177, 10091], [4606, 899, 14810], [4606, 3618, 14810], [4606, 1180, 10465], [4606, 2716, 10465], [4606, 2586, 5310], [4606, 1205, 5310], [4606, 899, 8688], [4606, 3618, 8688], [4606, 2516, 10908], [4606, 101, 10908], [4606, 2716, 10059], [4606, 1180, 10059]], 4606), ([[3126, 1778, 15934], [3126, 1368, 17711], [3126, 1368, 15578], [3126, 1788, 15926], [3126, 1912, 17048], [3126, 1358, 18083], [3126, 1368, 16852], [3126, 1376, 17336], [3126, 1353, 17750], [3126, 1530, 18497], [3126, 1652, 15586], [3126, 1368, 16790], [3126, 1368, 18021], [3126, 1422, 15931], [3126, 1347, 18001], [3126, 1353, 18073], [3126, 1347, 16655], [3126, 1418, 18514], [3126, 1353, 16628]], [[3126, 852, 14549], [3126, 137, 14549], [3126, 708, 14549], [3126, 2911, 3002], [3126, 974, 3002], [3126, 551, 3002], [3126, 2760, 3002], [3126, 353, 4116], [3126, 276, 14080], [3126, 3183, 14080], [3126, 899, 491], [3126, 3618, 491], [3126, 899, 11284]], 3126), ([[7474, 1351, 16773], [7474, 1351, 16648], [7474, 1352, 17593], [7474, 1352, 16448], [7474, 1501, 17648], [7474, 1352, 15322], [7474, 1351, 18286], [7474, 1389, 15998], [7474, 1376, 16284], [7474, 1353, 15266], [7474, 1901, 18108], [7474, 1352, 16730], [7474, 1352, 15238], [7474, 1353, 16392], [7474, 1352, 15253], [7474, 1352, 15103], [7474, 1376, 16426], [7474, 1479, 16413], [7474, 1355, 14961]], [[7474, 3720, 7992], [7474, 753, 7992], [7474, 820, 11713], [7474, 3366, 11713], [7474, 3720, 1246], [7474, 753, 1246], [7474, 3380, 1246], [7474, 820, 1246], [7474, 3366, 1246], [7474, 3720, 435], [7474, 753, 435], [7474, 3235, 5546], [7474, 356, 5546], [7474, 820, 879], [7474, 753, 13471], [7474, 3720, 13471], [7474, 495, 685], [7474, 753, 14576], [7474, 3720, 14576], [7474, 3235, 10715], [7474, 356, 10715], [7474, 3366, 5835], [7474, 820, 5835], [7474, 3720, 5835], [7474, 753, 5835], [7474, 2881, 10764], [7474, 1040, 10764], [7474, 3235, 9396], [7474, 356, 9396], [7474, 716, 2520], [7474, 495, 526], [7474, 2595, 526], [7474, 469, 654], [7474, 2714, 654], [7474, 735, 654], [7474, 820, 8199], [7474, 3380, 8199], [7474, 380, 8199], [7474, 290, 10359], [7474, 3606, 10359], [7474, 735, 12002], [7474, 356, 7593], [7474, 3235, 7593], [7474, 1040, 11841], [7474, 2881, 11841], [7474, 356, 13502], [7474, 2881, 728], [7474, 820, 6929], [7474, 2595, 5634], [7474, 495, 5634], [7474, 3720, 13238], [7474, 837, 11144], [7474, 735, 5007], [7474, 495, 10528], [7474, 2595, 10528], [7474, 439, 7777], [7474, 735, 9315], [7474, 753, 9165], [7474, 3720, 3784], [7474, 735, 4851], [7474, 753, 578], [7474, 356, 384], [7474, 3235, 384], [7474, 549, 5806], [7474, 2953, 5806], [7474, 735, 9303]], 7474), ([[13549, 1562, 15363], [13549, 1368, 16145], [13549, 1353, 14959], [13549, 1812, 15977], [13549, 2183, 17396], [13549, 1368, 15578], [13549, 1556, 17405], [13549, 1401, 15034], [13549, 1556, 17675], [13549, 1358, 14965], [13549, 1368, 15048], [13549, 1376, 17336], [13549, 1912, 17048], [13549, 1401, 16765], [13549, 1758, 15851], [13549, 1422, 15931], [13549, 1562, 18406]], [[13549, 1192, 12557], [13549, 3325, 12557], [13549, 1192, 3164], [13549, 391, 5200], [13549, 1192, 12267], [13549, 3325, 2244], [13549, 1192, 2244], [13549, 3325, 6891], [13549, 1192, 6891], [13549, 3325, 1756], [13549, 1192, 1756], [13549, 1192, 13488], [13549, 1192, 8641], [13549, 3325, 8641], [13549, 3161, 13583], [13549, 1192, 1536], [13549, 3325, 1536], [13549, 1192, 6594], [13549, 3325, 6594], [13549, 1192, 11550], [13549, 3325, 11550], [13549, 3325, 2424], [13549, 1192, 12178], [13549, 3325, 12178], [13549, 3325, 339], [13549, 1192, 339], [13549, 3325, 11881], [13549, 1192, 11881], [13549, 1192, 2003], [13549, 3325, 5980], [13549, 1192, 5980], [13549, 3325, 1172], [13549, 3119, 10422], [13549, 3325, 7076], [13549, 1192, 7076], [13549, 1192, 7703], [13549, 3325, 7703], [13549, 2953, 7459], [13549, 549, 7459], [13549, 1192, 13455], [13549, 3325, 13455], [13549, 1192, 14547], [13549, 3325, 14547], [13549, 1192, 7073], [13549, 3325, 315], [13549, 1192, 315], [13549, 1192, 6002], [13549, 3325, 6002], [13549, 1192, 8500]], 13549), ([[5018, 1352, 17593], [5018, 1583, 15417], [5018, 1376, 16284], [5018, 1352, 16448], [5018, 1389, 18296], [5018, 1389, 15254], [5018, 1352, 15322], [5018, 1479, 16413], [5018, 1636, 17649], [5018, 1355, 14961], [5018, 1376, 18439], [5018, 1376, 16426]], [[5018, 3241, 3283], [5018, 302, 3283], [5018, 290, 3539], [5018, 490, 1217], [5018, 2916, 1217], [5018, 302, 9622], [5018, 1258, 9622], [5018, 3241, 9622], [5018, 2840, 9622], [5018, 302, 11470], [5018, 2840, 11470], [5018, 3241, 11470], [5018, 3235, 7593], [5018, 181, 421], [5018, 2607, 421], [5018, 2458, 421], [5018, 302, 8496], [5018, 2714, 3895], [5018, 469, 3895], [5018, 2607, 7106], [5018, 181, 7106], [5018, 229, 12105], [5018, 3020, 12105], [5018, 181, 11332], [5018, 2458, 11332], [5018, 2607, 11332], [5018, 32, 11332], [5018, 3020, 2701], [5018, 229, 2701], [5018, 3241, 8667], [5018, 2840, 8667], [5018, 1258, 8667], [5018, 302, 8667], [5018, 32, 7948], [5018, 2607, 7948], [5018, 2458, 7948], [5018, 181, 7948], [5018, 820, 5835], [5018, 3235, 9258], [5018, 181, 13962], [5018, 3020, 5168], [5018, 32, 4792], [5018, 181, 4792], [5018, 2607, 4792], [5018, 30, 6119], [5018, 439, 7777], [5018, 2595, 6520], [5018, 837, 11144], [5018, 3167, 11144], [5018, 495, 6398], [5018, 2595, 6398], [5018, 32, 2406], [5018, 2458, 2406]], 5018), ([[9598, 1389, 18432], [9598, 1985, 17058], [9598, 1476, 15600], [9598, 1985, 16576], [9598, 1476, 15173]], [[9598, 407, 13839], [9598, 3305, 13839], [9598, 316, 13839], [9598, 3220, 13839], [9598, 2825, 6182], [9598, 724, 6182], [9598, 1161, 11853], [9598, 2825, 11853], [9598, 322, 13563], [9598, 3165, 13563], [9598, 322, 8984], [9598, 3165, 8984], [9598, 2549, 1111], [9598, 1332, 1111], [9598, 3664, 4120], [9598, 772, 4120], [9598, 580, 14549], [9598, 2467, 2443], [9598, 1332, 4847], [9598, 2549, 4847], [9598, 1067, 8121], [9598, 2959, 8121], [9598, 316, 8957], [9598, 3305, 8957], [9598, 427, 6485], [9598, 3084, 6485], [9598, 139, 14382], [9598, 2467, 14382], [9598, 3220, 9992], [9598, 407, 9992], [9598, 316, 9992], [9598, 3305, 9992], [9598, 2467, 10500], [9598, 139, 10500], [9598, 2702, 3103], [9598, 757, 3103], [9598, 241, 6119], [9598, 3084, 3523], [9598, 427, 3523], [9598, 3165, 2319], [9598, 322, 2319], [9598, 2467, 3062], [9598, 139, 3062], [9598, 1297, 707], [9598, 3664, 6668], [9598, 772, 6668], [9598, 3165, 232], [9598, 2953, 5806], [9598, 549, 5806], [9598, 322, 13198], [9598, 3165, 13198], [9598, 316, 1177], [9598, 3165, 6440], [9598, 322, 6440], [9598, 2467, 129], [9598, 139, 129], [9598, 3084, 11120], [9598, 1067, 12382], [9598, 2959, 12382], [9598, 427, 14042], [9598, 3165, 13804], [9598, 322, 13804], [9598, 594, 14746], [9598, 1125, 9280]], 9598), ([[9114, 1422, 15069], [9114, 1376, 17630], [9114, 1952, 16471], [9114, 1376, 16284], [9114, 1389, 18296], [9114, 1389, 15254], [9114, 1376, 16273], [9114, 1355, 15997], [9114, 1376, 17228], [9114, 1355, 14961], [9114, 1422, 15931], [9114, 1376, 16426]], [[9114, 3677, 10425], [9114, 1086, 10425], [9114, 3167, 11144], [9114, 837, 11144], [9114, 3677, 9908], [9114, 1086, 9908], [9114, 1086, 10214], [9114, 1314, 10214], [9114, 794, 10214], [9114, 3677, 10214], [9114, 2833, 10214], [9114, 302, 1420], [9114, 30, 9155], [9114, 3677, 2327], [9114, 1086, 2327], [9114, 794, 2128], [9114, 3105, 2128], [9114, 1314, 2128], [9114, 2833, 2128], [9114, 1086, 2128], [9114, 3677, 2128], [9114, 1086, 9228], [9114, 1314, 9228], [9114, 2833, 9228], [9114, 1119, 9614], [9114, 2970, 9614], [9114, 2840, 9576], [9114, 1258, 9576], [9114, 302, 9576], [9114, 1119, 2764], [9114, 3677, 14878], [9114, 1086, 14878], [9114, 1310, 23], [9114, 439, 7777]], 9114), ([[12920, 1778, 15934], [12920, 1368, 17711], [12920, 2032, 16794], [12920, 1508, 17633], [12920, 1788, 15926], [12920, 1495, 17083], [12920, 1912, 17048], [12920, 1358, 18083], [12920, 1353, 16628], [12920, 1812, 15977], [12920, 1358, 14965], [12920, 1952, 16896], [12920, 1353, 17750], [12920, 1481, 15181], [12920, 1347, 18225], [12920, 1652, 15586], [12920, 1368, 16790], [12920, 1368, 18021], [12920, 1353, 17476], [12920, 1422, 15931], [12920, 1721, 16581], [12920, 1508, 16086], [12920, 1345, 15261], [12920, 1353, 18073], [12920, 1721, 15795], [12920, 1347, 16655], [12920, 1409, 17215], [12920, 1418, 18514], [12920, 1385, 18119]], [[12920, 899, 4484], [12920, 1250, 14876], [12920, 3676, 14876], [12920, 3738, 14876], [12920, 1088, 14876], [12920, 1312, 14876], [12920, 3514, 14876], [12920, 1250, 7955], [12920, 1088, 7955], [12920, 3738, 7955], [12920, 3514, 7955], [12920, 708, 14549], [12920, 244, 14549], [12920, 137, 14549], [12920, 751, 8433], [12920, 3411, 8433], [12920, 3738, 3996], [12920, 1312, 3996], [12920, 1316, 4454], [12920, 3129, 4454], [12920, 843, 4171], [12920, 2815, 4171], [12920, 3676, 13573], [12920, 1250, 13573], [12920, 3514, 13573], [12920, 3738, 13573], [12920, 751, 2862], [12920, 2772, 707], [12920, 641, 9430], [12920, 1133, 12927], [12920, 3035, 12927], [12920, 751, 9453], [12920, 3411, 9453], [12920, 3035, 11227], [12920, 1133, 11227], [12920, 899, 4169], [12920, 3618, 4169], [12920, 843, 259], [12920, 2815, 259], [12920, 3618, 4190], [12920, 199, 4190], [12920, 899, 4190], [12920, 2862, 4190], [12920, 3035, 6008], [12920, 193, 11923], [12920, 2778, 8338], [12920, 914, 8338], [12920, 2772, 4116], [12920, 843, 2881], [12920, 2815, 2881], [12920, 3111, 10132], [12920, 3034, 5719], [12920, 2755, 13465], [12920, 3764, 5892]], 12920), ([[4481, 1476, 15470], [4481, 1501, 15725], [4481, 1389, 18432], [4481, 1476, 15173], [4481, 1479, 15178], [4481, 1766, 17974]], [[4481, 1275, 13576], [4481, 2861, 13576], [4481, 3533, 10570], [4481, 156, 10570], [4481, 2785, 3366], [4481, 3220, 3366], [4481, 38, 3366], [4481, 2803, 14682], [4481, 3195, 14682], [4481, 145, 14682], [4481, 421, 14682], [4481, 3533, 5120], [4481, 156, 5120], [4481, 761, 12698], [4481, 2803, 12698], [4481, 145, 12698], [4481, 3533, 1333], [4481, 156, 1333], [4481, 2785, 2902], [4481, 38, 2902], [4481, 3220, 2712], [4481, 2785, 2712], [4481, 3533, 10339], [4481, 156, 10339], [4481, 2953, 7459], [4481, 549, 7459], [4481, 3058, 14066], [4481, 2803, 14066], [4481, 145, 14066], [4481, 3695, 6490], [4481, 1269, 6490], [4481, 2468, 6490], [4481, 42, 6490], [4481, 2803, 8091], [4481, 145, 8091], [4481, 38, 9626], [4481, 2785, 9626], [4481, 3533, 3523], [4481, 156, 3523], [4481, 450, 8250], [4481, 3480, 8250], [4481, 156, 1198], [4481, 3533, 825], [4481, 156, 825], [4481, 364, 6119], [4481, 3538, 7542], [4481, 1087, 13440]], 4481), ([[13333, 1422, 15069], [13333, 1352, 17593], [13333, 1501, 17648], [13333, 1766, 18192], [13333, 1352, 15322], [13333, 2288, 17893], [13333, 1376, 16284], [13333, 1353, 15266], [13333, 1355, 15997], [13333, 1376, 18246], [13333, 1353, 16392], [13333, 1352, 15253], [13333, 1352, 15103], [13333, 1376, 17228], [13333, 1874, 16182], [13333, 1376, 16426], [13333, 2008, 16656], [13333, 1479, 16413], [13333, 1369, 17134], [13333, 1355, 14961]], [[13333, 820, 5835], [13333, 3380, 5835], [13333, 3366, 5835], [13333, 380, 5835], [13333, 495, 7491], [13333, 2595, 7491], [13333, 3366, 8199], [13333, 380, 8199], [13333, 820, 8199], [13333, 3380, 8199], [13333, 3720, 11981], [13333, 753, 11981], [13333, 495, 8497], [13333, 2953, 7459], [13333, 525, 14549], [13333, 356, 7593], [13333, 3235, 7593], [13333, 2595, 14562], [13333, 495, 14562], [13333, 820, 3784], [13333, 753, 3784], [13333, 3366, 3784], [13333, 3720, 3784], [13333, 3606, 5125], [13333, 356, 10715], [13333, 3235, 10715], [13333, 356, 9396], [13333, 3235, 9396], [13333, 1220, 7614], [13333, 469, 3103], [13333, 378, 3103], [13333, 2714, 3103], [13333, 3366, 2539], [13333, 820, 2539], [13333, 3235, 8157], [13333, 356, 8157], [13333, 439, 7777], [13333, 3606, 9163], [13333, 290, 9163], [13333, 495, 10281], [13333, 2595, 10281], [13333, 2595, 643], [13333, 2881, 398], [13333, 356, 8492], [13333, 356, 5546], [13333, 3235, 5546], [13333, 2953, 5806], [13333, 549, 5806], [13333, 3235, 2627], [13333, 356, 2627], [13333, 2595, 1743], [13333, 495, 1743], [13333, 3167, 11144], [13333, 837, 11144], [13333, 495, 1362], [13333, 356, 14883], [13333, 3235, 14883], [13333, 3403, 1043], [13333, 873, 7882], [13333, 2595, 685], [13333, 495, 10528], [13333, 2595, 10528], [13333, 3584, 11180]], 13333)]\n"
          ]
        }
      ],
      "source": [
        "import pickle\n",
        "\n",
        "def load_pkl_preview(file_path, num_elements=10):\n",
        "    with open(file_path, \"rb\") as f:\n",
        "        data = pickle.load(f)\n",
        "\n",
        "    print(f\"Type des données : {type(data)}\")\n",
        "\n",
        "    if isinstance(data, list) or isinstance(data, tuple):\n",
        "        print(f\"Nombre total d'éléments : {len(data)}\")\n",
        "        print(f\"Aperçu ({num_elements} premiers éléments) : {data[:num_elements]}\")\n",
        "\n",
        "    elif isinstance(data, dict):\n",
        "        keys = list(data.keys())[:num_elements]\n",
        "        print(f\"Clés principales : {keys}\")\n",
        "        print(f\"Aperçu des valeurs : {[data[k] for k in keys]}\")\n",
        "\n",
        "    else:\n",
        "        print(\"Type de données non géré, affichage brut :\")\n",
        "        print(str(data)[:1000]) \n",
        "\n",
        "file_path = \"LMET_train.pkl\" \n",
        "load_pkl_preview(file_path)\n"
      ]
    },
    {
      "cell_type": "code",
      "execution_count": 9,
      "metadata": {},
      "outputs": [
        {
          "name": "stdout",
          "output_type": "stream",
          "text": [
            "Type des données : <class 'numpy.ndarray'>\n",
            "Shape : (14951,), Dtype : object\n",
            "Aperçu (5 premiers éléments) :\n",
            "[list([[463, 3340], [77, 980], [822, 2380], [131, 2145], [131, 1218], [318, 1395], [463, 1022], [8, 2525], [131, 2582], [13, 1304]])\n",
            " list([[23, 3070], [23, 1839], [1074, 3554], [23, 1159], [150, 2132], [23, 2055], [23, 3125], [23, 627], [58, 3386]])\n",
            " list([[172, 837], [24, 606]])\n",
            " list([[182, 2350], [8, 1847], [56, 83], [78, 363], [24, 2336], [182, 577], [24, 34], [44, 3345], [8, 68], [476, 1064], [31, 1333], [567, 2097]])\n",
            " list([[44, 2873], [44, 3481], [134, 2572]])]\n"
          ]
        }
      ],
      "source": [
        "import numpy as np\n",
        "\n",
        "def load_npy_preview(file_path, num_elements=5):\n",
        "    data = np.load(file_path, allow_pickle=True)  # Charge le fichier\n",
        "\n",
        "    print(f\"Type des données : {type(data)}\")\n",
        "    print(f\"Shape : {data.shape}, Dtype : {data.dtype}\")\n",
        "\n",
        "    # Afficher un extrait en fonction de la dimension\n",
        "    if data.ndim == 1:  # Tableau 1D\n",
        "        print(f\"Aperçu ({num_elements} premiers éléments) :\\n{data[:num_elements]}\")\n",
        "    elif data.ndim == 2:  # Matrice 2D\n",
        "        print(f\"Aperçu ({num_elements} premières lignes) :\\n{data[:num_elements, :]}\")\n",
        "    elif data.ndim == 3:  # Tensor 3D (ex. images)\n",
        "        print(f\"Aperçu de la première tranche :\\n{data[0]}\")\n",
        "    else:\n",
        "        print(\"Les données ont plus de 3 dimensions, affichage limité.\")\n",
        "        print(f\"Aperçu : {data.flat[:num_elements]}\")  # Affichage partiel\n",
        "\n",
        "# Exemple d'utilisation\n",
        "file_path = \"ent2pair.npy\"  # Remplace par ton fichier\n",
        "load_npy_preview(file_path)\n"
      ]
    },
    {
      "cell_type": "code",
      "execution_count": null,
      "metadata": {},
      "outputs": [
        {
          "ename": "RuntimeError",
          "evalue": "Failed to import transformers.models.bert.modeling_bert because of the following error (look up to see its traceback):\nNo module named 'tensorflow'",
          "output_type": "error",
          "traceback": [
            "\u001b[1;31m---------------------------------------------------------------------------\u001b[0m",
            "\u001b[1;31mModuleNotFoundError\u001b[0m                       Traceback (most recent call last)",
            "File \u001b[1;32mc:\\Users\\antoi\\AppData\\Local\\Programs\\Python\\Python312\\Lib\\site-packages\\transformers\\utils\\import_utils.py:1817\u001b[0m, in \u001b[0;36m_LazyModule._get_module\u001b[1;34m(self, module_name)\u001b[0m\n\u001b[0;32m   1816\u001b[0m \u001b[38;5;28;01mtry\u001b[39;00m:\n\u001b[1;32m-> 1817\u001b[0m     \u001b[38;5;28;01mreturn\u001b[39;00m \u001b[43mimportlib\u001b[49m\u001b[38;5;241;43m.\u001b[39;49m\u001b[43mimport_module\u001b[49m\u001b[43m(\u001b[49m\u001b[38;5;124;43m\"\u001b[39;49m\u001b[38;5;124;43m.\u001b[39;49m\u001b[38;5;124;43m\"\u001b[39;49m\u001b[43m \u001b[49m\u001b[38;5;241;43m+\u001b[39;49m\u001b[43m \u001b[49m\u001b[43mmodule_name\u001b[49m\u001b[43m,\u001b[49m\u001b[43m \u001b[49m\u001b[38;5;28;43mself\u001b[39;49m\u001b[38;5;241;43m.\u001b[39;49m\u001b[38;5;18;43m__name__\u001b[39;49m\u001b[43m)\u001b[49m\n\u001b[0;32m   1818\u001b[0m \u001b[38;5;28;01mexcept\u001b[39;00m \u001b[38;5;167;01mException\u001b[39;00m \u001b[38;5;28;01mas\u001b[39;00m e:\n",
            "File \u001b[1;32mc:\\Users\\antoi\\AppData\\Local\\Programs\\Python\\Python312\\Lib\\importlib\\__init__.py:90\u001b[0m, in \u001b[0;36mimport_module\u001b[1;34m(name, package)\u001b[0m\n\u001b[0;32m     89\u001b[0m         level \u001b[38;5;241m+\u001b[39m\u001b[38;5;241m=\u001b[39m \u001b[38;5;241m1\u001b[39m\n\u001b[1;32m---> 90\u001b[0m \u001b[38;5;28;01mreturn\u001b[39;00m \u001b[43m_bootstrap\u001b[49m\u001b[38;5;241;43m.\u001b[39;49m\u001b[43m_gcd_import\u001b[49m\u001b[43m(\u001b[49m\u001b[43mname\u001b[49m\u001b[43m[\u001b[49m\u001b[43mlevel\u001b[49m\u001b[43m:\u001b[49m\u001b[43m]\u001b[49m\u001b[43m,\u001b[49m\u001b[43m \u001b[49m\u001b[43mpackage\u001b[49m\u001b[43m,\u001b[49m\u001b[43m \u001b[49m\u001b[43mlevel\u001b[49m\u001b[43m)\u001b[49m\n",
            "File \u001b[1;32m<frozen importlib._bootstrap>:1387\u001b[0m, in \u001b[0;36m_gcd_import\u001b[1;34m(name, package, level)\u001b[0m\n",
            "File \u001b[1;32m<frozen importlib._bootstrap>:1360\u001b[0m, in \u001b[0;36m_find_and_load\u001b[1;34m(name, import_)\u001b[0m\n",
            "File \u001b[1;32m<frozen importlib._bootstrap>:1331\u001b[0m, in \u001b[0;36m_find_and_load_unlocked\u001b[1;34m(name, import_)\u001b[0m\n",
            "File \u001b[1;32m<frozen importlib._bootstrap>:935\u001b[0m, in \u001b[0;36m_load_unlocked\u001b[1;34m(spec)\u001b[0m\n",
            "File \u001b[1;32m<frozen importlib._bootstrap_external>:994\u001b[0m, in \u001b[0;36mexec_module\u001b[1;34m(self, module)\u001b[0m\n",
            "File \u001b[1;32m<frozen importlib._bootstrap>:488\u001b[0m, in \u001b[0;36m_call_with_frames_removed\u001b[1;34m(f, *args, **kwds)\u001b[0m\n",
            "File \u001b[1;32mc:\\Users\\antoi\\AppData\\Local\\Programs\\Python\\Python312\\Lib\\site-packages\\transformers\\models\\bert\\modeling_bert.py:47\u001b[0m\n\u001b[0;32m     36\u001b[0m \u001b[38;5;28;01mfrom\u001b[39;00m \u001b[38;5;21;01m.\u001b[39;00m\u001b[38;5;21;01m.\u001b[39;00m\u001b[38;5;21;01m.\u001b[39;00m\u001b[38;5;21;01mmodeling_outputs\u001b[39;00m \u001b[38;5;28;01mimport\u001b[39;00m (\n\u001b[0;32m     37\u001b[0m     BaseModelOutputWithPastAndCrossAttentions,\n\u001b[0;32m     38\u001b[0m     BaseModelOutputWithPoolingAndCrossAttentions,\n\u001b[1;32m   (...)\u001b[0m\n\u001b[0;32m     45\u001b[0m     TokenClassifierOutput,\n\u001b[0;32m     46\u001b[0m )\n\u001b[1;32m---> 47\u001b[0m \u001b[38;5;28;01mfrom\u001b[39;00m \u001b[38;5;21;01m.\u001b[39;00m\u001b[38;5;21;01m.\u001b[39;00m\u001b[38;5;21;01m.\u001b[39;00m\u001b[38;5;21;01mmodeling_utils\u001b[39;00m \u001b[38;5;28;01mimport\u001b[39;00m PreTrainedModel\n\u001b[0;32m     48\u001b[0m \u001b[38;5;28;01mfrom\u001b[39;00m \u001b[38;5;21;01m.\u001b[39;00m\u001b[38;5;21;01m.\u001b[39;00m\u001b[38;5;21;01m.\u001b[39;00m\u001b[38;5;21;01mpytorch_utils\u001b[39;00m \u001b[38;5;28;01mimport\u001b[39;00m apply_chunking_to_forward, find_pruneable_heads_and_indices, prune_linear_layer\n",
            "File \u001b[1;32mc:\\Users\\antoi\\AppData\\Local\\Programs\\Python\\Python312\\Lib\\site-packages\\transformers\\modeling_utils.py:51\u001b[0m\n\u001b[0;32m     50\u001b[0m \u001b[38;5;28;01mfrom\u001b[39;00m \u001b[38;5;21;01m.\u001b[39;00m\u001b[38;5;21;01mintegrations\u001b[39;00m\u001b[38;5;21;01m.\u001b[39;00m\u001b[38;5;21;01msdpa_attention\u001b[39;00m \u001b[38;5;28;01mimport\u001b[39;00m sdpa_attention_forward\n\u001b[1;32m---> 51\u001b[0m \u001b[38;5;28;01mfrom\u001b[39;00m \u001b[38;5;21;01m.\u001b[39;00m\u001b[38;5;21;01mloss\u001b[39;00m\u001b[38;5;21;01m.\u001b[39;00m\u001b[38;5;21;01mloss_utils\u001b[39;00m \u001b[38;5;28;01mimport\u001b[39;00m LOSS_MAPPING\n\u001b[0;32m     52\u001b[0m \u001b[38;5;28;01mfrom\u001b[39;00m \u001b[38;5;21;01m.\u001b[39;00m\u001b[38;5;21;01mpytorch_utils\u001b[39;00m \u001b[38;5;28;01mimport\u001b[39;00m (  \u001b[38;5;66;03m# noqa: F401\u001b[39;00m\n\u001b[0;32m     53\u001b[0m     Conv1D,\n\u001b[0;32m     54\u001b[0m     apply_chunking_to_forward,\n\u001b[1;32m   (...)\u001b[0m\n\u001b[0;32m     60\u001b[0m     translate_to_torch_parallel_style,\n\u001b[0;32m     61\u001b[0m )\n",
            "File \u001b[1;32mc:\\Users\\antoi\\AppData\\Local\\Programs\\Python\\Python312\\Lib\\site-packages\\transformers\\loss\\loss_utils.py:19\u001b[0m\n\u001b[0;32m     17\u001b[0m \u001b[38;5;28;01mfrom\u001b[39;00m \u001b[38;5;21;01mtorch\u001b[39;00m\u001b[38;5;21;01m.\u001b[39;00m\u001b[38;5;21;01mnn\u001b[39;00m \u001b[38;5;28;01mimport\u001b[39;00m BCEWithLogitsLoss, MSELoss\n\u001b[1;32m---> 19\u001b[0m \u001b[38;5;28;01mfrom\u001b[39;00m \u001b[38;5;21;01m.\u001b[39;00m\u001b[38;5;21;01mloss_deformable_detr\u001b[39;00m \u001b[38;5;28;01mimport\u001b[39;00m DeformableDetrForObjectDetectionLoss, DeformableDetrForSegmentationLoss\n\u001b[0;32m     20\u001b[0m \u001b[38;5;28;01mfrom\u001b[39;00m \u001b[38;5;21;01m.\u001b[39;00m\u001b[38;5;21;01mloss_for_object_detection\u001b[39;00m \u001b[38;5;28;01mimport\u001b[39;00m ForObjectDetectionLoss, ForSegmentationLoss\n",
            "File \u001b[1;32mc:\\Users\\antoi\\AppData\\Local\\Programs\\Python\\Python312\\Lib\\site-packages\\transformers\\loss\\loss_deformable_detr.py:4\u001b[0m\n\u001b[0;32m      2\u001b[0m \u001b[38;5;28;01mimport\u001b[39;00m \u001b[38;5;21;01mtorch\u001b[39;00m\u001b[38;5;21;01m.\u001b[39;00m\u001b[38;5;21;01mnn\u001b[39;00m \u001b[38;5;28;01mas\u001b[39;00m \u001b[38;5;21;01mnn\u001b[39;00m\n\u001b[1;32m----> 4\u001b[0m \u001b[38;5;28;01mfrom\u001b[39;00m \u001b[38;5;21;01m.\u001b[39;00m\u001b[38;5;21;01m.\u001b[39;00m\u001b[38;5;21;01mimage_transforms\u001b[39;00m \u001b[38;5;28;01mimport\u001b[39;00m center_to_corners_format\n\u001b[0;32m      5\u001b[0m \u001b[38;5;28;01mfrom\u001b[39;00m \u001b[38;5;21;01m.\u001b[39;00m\u001b[38;5;21;01m.\u001b[39;00m\u001b[38;5;21;01mutils\u001b[39;00m \u001b[38;5;28;01mimport\u001b[39;00m is_scipy_available\n",
            "File \u001b[1;32mc:\\Users\\antoi\\AppData\\Local\\Programs\\Python\\Python312\\Lib\\site-packages\\transformers\\image_transforms.py:50\u001b[0m\n\u001b[0;32m     49\u001b[0m \u001b[38;5;28;01mif\u001b[39;00m is_tf_available():\n\u001b[1;32m---> 50\u001b[0m     \u001b[38;5;28;01mimport\u001b[39;00m \u001b[38;5;21;01mtensorflow\u001b[39;00m \u001b[38;5;28;01mas\u001b[39;00m \u001b[38;5;21;01mtf\u001b[39;00m\n\u001b[0;32m     52\u001b[0m \u001b[38;5;28;01mif\u001b[39;00m is_flax_available():\n",
            "\u001b[1;31mModuleNotFoundError\u001b[0m: No module named 'tensorflow'",
            "\nThe above exception was the direct cause of the following exception:\n",
            "\u001b[1;31mRuntimeError\u001b[0m                              Traceback (most recent call last)",
            "Cell \u001b[1;32mIn[6], line 3\u001b[0m\n\u001b[0;32m      1\u001b[0m \u001b[38;5;28;01mimport\u001b[39;00m \u001b[38;5;21;01margparse\u001b[39;00m\n\u001b[0;32m      2\u001b[0m \u001b[38;5;28;01mfrom\u001b[39;00m \u001b[38;5;21;01mutils\u001b[39;00m \u001b[38;5;28;01mimport\u001b[39;00m \u001b[38;5;241m*\u001b[39m\n\u001b[1;32m----> 3\u001b[0m \u001b[38;5;28;01mfrom\u001b[39;00m \u001b[38;5;21;01mSEM\u001b[39;00m \u001b[38;5;28;01mimport\u001b[39;00m SEM\n\u001b[0;32m      4\u001b[0m \u001b[38;5;28;01mfrom\u001b[39;00m \u001b[38;5;21;01mdataloader\u001b[39;00m \u001b[38;5;28;01mimport\u001b[39;00m SEMdataset\n\u001b[0;32m      5\u001b[0m \u001b[38;5;28;01mfrom\u001b[39;00m \u001b[38;5;21;01mtorch\u001b[39;00m\u001b[38;5;21;01m.\u001b[39;00m\u001b[38;5;21;01mutils\u001b[39;00m\u001b[38;5;21;01m.\u001b[39;00m\u001b[38;5;21;01mdata\u001b[39;00m \u001b[38;5;28;01mimport\u001b[39;00m DataLoader\n",
            "File \u001b[1;32mc:\\Users\\antoi\\OneDrive\\Documents\\Universite\\M1\\S2\\PLDAC\\semantic-entity-typing\\sampling\\SEM.py:7\u001b[0m\n\u001b[0;32m      4\u001b[0m \u001b[38;5;28;01mfrom\u001b[39;00m \u001b[38;5;21;01mtorch\u001b[39;00m\u001b[38;5;21;01m.\u001b[39;00m\u001b[38;5;21;01mnn\u001b[39;00m \u001b[38;5;28;01mimport\u001b[39;00m TransformerEncoder, TransformerEncoderLayer\n\u001b[0;32m      6\u001b[0m \u001b[38;5;28;01mfrom\u001b[39;00m \u001b[38;5;21;01mMHA\u001b[39;00m \u001b[38;5;28;01mimport\u001b[39;00m MHA\n\u001b[1;32m----> 7\u001b[0m \u001b[38;5;28;01mfrom\u001b[39;00m \u001b[38;5;21;01mtransformers\u001b[39;00m \u001b[38;5;28;01mimport\u001b[39;00m BertConfig, BertModel, RobertaConfig, RobertaModel, GPT2Config, GPT2Model\n\u001b[0;32m     10\u001b[0m \u001b[38;5;28;01mclass\u001b[39;00m \u001b[38;5;21;01mSEM\u001b[39;00m(nn\u001b[38;5;241m.\u001b[39mModule):\n\u001b[0;32m     11\u001b[0m     \u001b[38;5;28;01mdef\u001b[39;00m \u001b[38;5;21m__init__\u001b[39m(\u001b[38;5;28mself\u001b[39m, args, num_entities, num_rels, num_types):\n",
            "File \u001b[1;32m<frozen importlib._bootstrap>:1412\u001b[0m, in \u001b[0;36m_handle_fromlist\u001b[1;34m(module, fromlist, import_, recursive)\u001b[0m\n",
            "File \u001b[1;32mc:\\Users\\antoi\\AppData\\Local\\Programs\\Python\\Python312\\Lib\\site-packages\\transformers\\utils\\import_utils.py:1806\u001b[0m, in \u001b[0;36m_LazyModule.__getattr__\u001b[1;34m(self, name)\u001b[0m\n\u001b[0;32m   1804\u001b[0m \u001b[38;5;28;01melif\u001b[39;00m name \u001b[38;5;129;01min\u001b[39;00m \u001b[38;5;28mself\u001b[39m\u001b[38;5;241m.\u001b[39m_class_to_module\u001b[38;5;241m.\u001b[39mkeys():\n\u001b[0;32m   1805\u001b[0m     module \u001b[38;5;241m=\u001b[39m \u001b[38;5;28mself\u001b[39m\u001b[38;5;241m.\u001b[39m_get_module(\u001b[38;5;28mself\u001b[39m\u001b[38;5;241m.\u001b[39m_class_to_module[name])\n\u001b[1;32m-> 1806\u001b[0m     value \u001b[38;5;241m=\u001b[39m \u001b[38;5;28;43mgetattr\u001b[39;49m\u001b[43m(\u001b[49m\u001b[43mmodule\u001b[49m\u001b[43m,\u001b[49m\u001b[43m \u001b[49m\u001b[43mname\u001b[49m\u001b[43m)\u001b[49m\n\u001b[0;32m   1807\u001b[0m \u001b[38;5;28;01melif\u001b[39;00m name \u001b[38;5;129;01min\u001b[39;00m \u001b[38;5;28mself\u001b[39m\u001b[38;5;241m.\u001b[39m_modules:\n\u001b[0;32m   1808\u001b[0m     value \u001b[38;5;241m=\u001b[39m \u001b[38;5;28mself\u001b[39m\u001b[38;5;241m.\u001b[39m_get_module(name)\n",
            "File \u001b[1;32mc:\\Users\\antoi\\AppData\\Local\\Programs\\Python\\Python312\\Lib\\site-packages\\transformers\\utils\\import_utils.py:1805\u001b[0m, in \u001b[0;36m_LazyModule.__getattr__\u001b[1;34m(self, name)\u001b[0m\n\u001b[0;32m   1803\u001b[0m     value \u001b[38;5;241m=\u001b[39m Placeholder\n\u001b[0;32m   1804\u001b[0m \u001b[38;5;28;01melif\u001b[39;00m name \u001b[38;5;129;01min\u001b[39;00m \u001b[38;5;28mself\u001b[39m\u001b[38;5;241m.\u001b[39m_class_to_module\u001b[38;5;241m.\u001b[39mkeys():\n\u001b[1;32m-> 1805\u001b[0m     module \u001b[38;5;241m=\u001b[39m \u001b[38;5;28;43mself\u001b[39;49m\u001b[38;5;241;43m.\u001b[39;49m\u001b[43m_get_module\u001b[49m\u001b[43m(\u001b[49m\u001b[38;5;28;43mself\u001b[39;49m\u001b[38;5;241;43m.\u001b[39;49m\u001b[43m_class_to_module\u001b[49m\u001b[43m[\u001b[49m\u001b[43mname\u001b[49m\u001b[43m]\u001b[49m\u001b[43m)\u001b[49m\n\u001b[0;32m   1806\u001b[0m     value \u001b[38;5;241m=\u001b[39m \u001b[38;5;28mgetattr\u001b[39m(module, name)\n\u001b[0;32m   1807\u001b[0m \u001b[38;5;28;01melif\u001b[39;00m name \u001b[38;5;129;01min\u001b[39;00m \u001b[38;5;28mself\u001b[39m\u001b[38;5;241m.\u001b[39m_modules:\n",
            "File \u001b[1;32mc:\\Users\\antoi\\AppData\\Local\\Programs\\Python\\Python312\\Lib\\site-packages\\transformers\\utils\\import_utils.py:1819\u001b[0m, in \u001b[0;36m_LazyModule._get_module\u001b[1;34m(self, module_name)\u001b[0m\n\u001b[0;32m   1817\u001b[0m     \u001b[38;5;28;01mreturn\u001b[39;00m importlib\u001b[38;5;241m.\u001b[39mimport_module(\u001b[38;5;124m\"\u001b[39m\u001b[38;5;124m.\u001b[39m\u001b[38;5;124m\"\u001b[39m \u001b[38;5;241m+\u001b[39m module_name, \u001b[38;5;28mself\u001b[39m\u001b[38;5;241m.\u001b[39m\u001b[38;5;18m__name__\u001b[39m)\n\u001b[0;32m   1818\u001b[0m \u001b[38;5;28;01mexcept\u001b[39;00m \u001b[38;5;167;01mException\u001b[39;00m \u001b[38;5;28;01mas\u001b[39;00m e:\n\u001b[1;32m-> 1819\u001b[0m     \u001b[38;5;28;01mraise\u001b[39;00m \u001b[38;5;167;01mRuntimeError\u001b[39;00m(\n\u001b[0;32m   1820\u001b[0m         \u001b[38;5;124mf\u001b[39m\u001b[38;5;124m\"\u001b[39m\u001b[38;5;124mFailed to import \u001b[39m\u001b[38;5;132;01m{\u001b[39;00m\u001b[38;5;28mself\u001b[39m\u001b[38;5;241m.\u001b[39m\u001b[38;5;18m__name__\u001b[39m\u001b[38;5;132;01m}\u001b[39;00m\u001b[38;5;124m.\u001b[39m\u001b[38;5;132;01m{\u001b[39;00mmodule_name\u001b[38;5;132;01m}\u001b[39;00m\u001b[38;5;124m because of the following error (look up to see its\u001b[39m\u001b[38;5;124m\"\u001b[39m\n\u001b[0;32m   1821\u001b[0m         \u001b[38;5;124mf\u001b[39m\u001b[38;5;124m\"\u001b[39m\u001b[38;5;124m traceback):\u001b[39m\u001b[38;5;130;01m\\n\u001b[39;00m\u001b[38;5;132;01m{\u001b[39;00me\u001b[38;5;132;01m}\u001b[39;00m\u001b[38;5;124m\"\u001b[39m\n\u001b[0;32m   1822\u001b[0m     ) \u001b[38;5;28;01mfrom\u001b[39;00m \u001b[38;5;21;01me\u001b[39;00m\n",
            "\u001b[1;31mRuntimeError\u001b[0m: Failed to import transformers.models.bert.modeling_bert because of the following error (look up to see its traceback):\nNo module named 'tensorflow'"
          ]
        }
      ],
      "source": [
        "def filter_et_train(sampled_triplets_file, et_train_file, output_file):\n",
        "    entities_in_sampled = set()\n",
        "    with open(sampled_triplets_file, \"r\", encoding=\"utf-8\") as f:\n",
        "        for line in f:\n",
        "            parts = line.strip().split(\"\\t\")\n",
        "            if len(parts) == 3:\n",
        "                entities_in_sampled.add(parts[0])  \n",
        "\n",
        "    with open(et_train_file, \"r\", encoding=\"utf-8\") as fin, open(output_file, \"w\", encoding=\"utf-8\") as fout:\n",
        "        for line in fin:\n",
        "            parts = line.strip().split(\"\\t\")\n",
        "            if len(parts) == 2 and parts[0] in entities_in_sampled:  \n",
        "                fout.write(line)\n",
        "\n",
        "filter_et_train(\"triplets.txt\", \"ET_train.txt\", \"et_train_sampled.txt\")\n"
      ]
    },
    {
      "cell_type": "code",
      "execution_count": null,
      "metadata": {},
      "outputs": [],
      "source": []
    }
  ],
  "metadata": {
    "colab": {
      "provenance": []
    },
    "kernelspec": {
      "display_name": "Python 3",
      "language": "python",
      "name": "python3"
    },
    "language_info": {
      "codemirror_mode": {
        "name": "ipython",
        "version": 3
      },
      "file_extension": ".py",
      "mimetype": "text/x-python",
      "name": "python",
      "nbconvert_exporter": "python",
      "pygments_lexer": "ipython3",
      "version": "3.12.1"
    }
  },
  "nbformat": 4,
  "nbformat_minor": 0
}
